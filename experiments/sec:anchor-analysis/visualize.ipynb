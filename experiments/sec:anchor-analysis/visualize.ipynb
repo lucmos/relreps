{
 "cells": [
  {
   "cell_type": "code",
   "execution_count": null,
   "id": "5182071c",
   "metadata": {},
   "outputs": [],
   "source": [
    "import pandas as pd\n",
    "from rae import PROJECT_ROOT\n",
    "import numpy as np\n",
    "import matplotlib.pyplot as plt\n",
    "import pandas as pd\n",
    "from tueplots import bundles\n",
    "from tueplots import figsizes"
   ]
  },
  {
   "cell_type": "code",
   "execution_count": null,
   "id": "645c7f83",
   "metadata": {},
   "outputs": [],
   "source": [
    "graph = pd.read_csv(\n",
    "    PROJECT_ROOT / \"experiments\" / \"sec:anchor-analysis\" / f\"Cora_data_manifold_stats_anchors_analysis.tsv\",\n",
    "    sep=\"\\t\",\n",
    "    index_col=0,\n",
    ")\n",
    "graph = graph.groupby(\"experiment\").agg([np.max]).droplevel(level=1, axis=1)\n",
    "graph = graph[(graph[\"val_acc\"] > 0.35) | (graph[\"num_anchors\"] < 200)]\n",
    "\n",
    "cifar = pd.read_csv(\n",
    "    PROJECT_ROOT / \"experiments\" / \"sec:anchor-analysis\" / f\"cifar100_data_manifold_stats_anchors_analysis.tsv\",\n",
    "    sep=\"\\t\",\n",
    "    index_col=0,\n",
    ")\n",
    "cifar = cifar.groupby(\"experiment\").agg([np.max]).droplevel(level=1, axis=1)\n",
    "\n",
    "\n",
    "N_ROWS = 1\n",
    "N_COLS = 2\n",
    "RATIO = 0.8\n",
    "\n",
    "plt.rcParams.update(bundles.iclr2023(usetex=True))\n",
    "plt.rcParams.update(figsizes.iclr2023(ncols=N_COLS, nrows=N_ROWS, height_to_width_ratio=RATIO))\n",
    "\n",
    "fig, [col1, col2] = plt.subplots(nrows=N_ROWS, ncols=N_COLS, dpi=150, sharey=True, sharex=False)\n",
    "\n",
    "\n",
    "def plot_points(ax, x, y, s=5):\n",
    "    ax.set_aspect(\"auto\")\n",
    "    ax.scatter(x, y, s=s)\n",
    "\n",
    "\n",
    "plot_points(col1, graph.num_anchors, graph.val_acc, s=0.5)\n",
    "plot_points(col2, cifar.num_anchors, cifar.val_acc, s=0.5)\n",
    "\n",
    "plt.subplots_adjust(wspace=0.4)"
   ]
  },
  {
   "cell_type": "code",
   "execution_count": null,
   "id": "bb3774e6",
   "metadata": {},
   "outputs": [],
   "source": [
    "fig.savefig(\"anchors_num_analysis.svg\", bbox_inches=\"tight\", pad_inches=0)\n",
    "!rsvg-convert -f pdf -o anchors_num_analysis.pdf anchors_num_analysis.svg\n",
    "!rm anchors_num_analysis.svg"
   ]
  },
  {
   "cell_type": "code",
   "execution_count": null,
   "id": "f5ced184",
   "metadata": {},
   "outputs": [],
   "source": []
  }
 ],
 "metadata": {
  "kernelspec": {
   "display_name": "Python 3 (ipykernel)",
   "language": "python",
   "name": "python3"
  },
  "language_info": {
   "codemirror_mode": {
    "name": "ipython",
    "version": 3
   },
   "file_extension": ".py",
   "mimetype": "text/x-python",
   "name": "python",
   "nbconvert_exporter": "python",
   "pygments_lexer": "ipython3",
   "version": "3.9.12"
  }
 },
 "nbformat": 4,
 "nbformat_minor": 5
}
