{
 "cells": [
  {
   "cell_type": "code",
   "execution_count": null,
   "id": "c32cca86",
   "metadata": {},
   "outputs": [],
   "source": [
    "%load_ext autoreload\n",
    "%autoreload 2"
   ]
  },
  {
   "cell_type": "code",
   "execution_count": null,
   "id": "9075904f",
   "metadata": {},
   "outputs": [],
   "source": [
    "import logging\n",
    "from enum import auto\n",
    "from pathlib import Path\n",
    "from typing import Callable, Dict, Optional, Tuple, Type, Union\n",
    "\n",
    "import numpy as np\n",
    "import pandas as pd\n",
    "import rich\n",
    "import torch\n",
    "import typer\n",
    "from torchmetrics import (\n",
    "    ErrorRelativeGlobalDimensionlessSynthesis,\n",
    "    MeanSquaredError,\n",
    "    MetricCollection,\n",
    "    PeakSignalNoiseRatio,\n",
    "    StructuralSimilarityIndexMeasure,\n",
    ")\n",
    "import torchvision\n",
    "from nn_core.common import PROJECT_ROOT\n",
    "from rae.modules.enumerations import Output\n",
    "from rae.pl_modules.pl_gautoencoder import LightningAutoencoder\n",
    "from rae.utils.evaluation import parse_checkpoint_id, parse_checkpoints_tree, parse_checkpoint\n",
    "from collections import defaultdict\n",
    "\n",
    "try:\n",
    "    # be ready for 3.10 when it drops\n",
    "    from enum import StrEnum\n",
    "except ImportError:\n",
    "    from backports.strenum import StrEnum\n",
    "\n",
    "from rae.utils.evaluation import plot_latent_space\n",
    "import matplotlib.pyplot as plt\n",
    "from tueplots import bundles\n",
    "from tueplots import figsizes\n",
    "import logging\n",
    "from enum import auto\n",
    "from functools import cached_property, partial\n",
    "from pathlib import Path\n",
    "from typing import Any, Dict, List, Optional, Sequence, Union\n",
    "\n",
    "import hydra\n",
    "import numpy as np\n",
    "import omegaconf\n",
    "import pytorch_lightning as pl\n",
    "import torch\n",
    "from omegaconf import DictConfig\n",
    "from sklearn.model_selection import train_test_split\n",
    "from sklearn.utils import shuffle\n",
    "from torch.utils.data import DataLoader, Dataset\n",
    "from torch.utils.data.dataloader import default_collate\n",
    "\n",
    "from nn_core.common import PROJECT_ROOT\n",
    "from nn_core.nn_types import Split\n",
    "\n",
    "logging.getLogger().setLevel(logging.ERROR)\n",
    "\n",
    "\n",
    "BATCH_SIZE = 256\n",
    "\n",
    "\n",
    "EXPERIMENT_ROOT = PROJECT_ROOT / \"experiments\" / \"sec:model-reusability-ae\"\n",
    "EXPERIMENT_CHECKPOINTS = EXPERIMENT_ROOT / \"checkpoints\"\n",
    "PREDICTIONS_TSV = EXPERIMENT_ROOT / \"predictions.tsv\"\n",
    "PERFORMANCE_TSV = EXPERIMENT_ROOT / \"performance.tsv\"\n",
    "\n",
    "DATASET_SANITY = {\n",
    "    \"mnist\": (\"rae.data.vision.mnist.MNISTDataset\", \"test\"),\n",
    "    \"fmnist\": (\"rae.data.vision.fmnist.FashionMNISTDataset\", \"test\"),\n",
    "    \"cifar10\": (\"rae.data.vision.cifar10.CIFAR10Dataset\", \"test\"),\n",
    "    \"cifar100\": (\"rae.data.vision.cifar100.CIFAR100Dataset\", \"test\"),\n",
    "}\n",
    "MODEL_SANITY = {\n",
    "    \"vae\": \"rae.modules.vae.VanillaVAE\",\n",
    "    \"ae\": \"rae.modules.ae.VanillaAE\",\n",
    "    \"rel_vae\": \"rae.modules.rel_vae.VanillaRelVAE\",\n",
    "    \"rel_ae\": \"rae.modules.rel_ae.VanillaRelAE\",\n",
    "}\n",
    "\n",
    "\n",
    "checkpoints, RUNS = parse_checkpoints_tree(EXPERIMENT_CHECKPOINTS)"
   ]
  },
  {
   "cell_type": "markdown",
   "id": "10f59280",
   "metadata": {},
   "source": [
    "# Train stitching"
   ]
  },
  {
   "cell_type": "code",
   "execution_count": null,
   "id": "d59d5194",
   "metadata": {},
   "outputs": [],
   "source": [
    "MODELS = checkpoints[\"mnist\"][\"ae\"]\n",
    "PL_MODULE = LightningAutoencoder\n",
    "\n",
    "num_samples = 20\n",
    "K = 2"
   ]
  },
  {
   "cell_type": "code",
   "execution_count": null,
   "id": "d518dbe5",
   "metadata": {},
   "outputs": [],
   "source": [
    "from rae.utils.evaluation import get_dataset\n",
    "from pytorch_lightning import seed_everything\n",
    "\n",
    "seed_everything(0)\n",
    "\n",
    "val_dataset = get_dataset(pl_module=PL_MODULE, ckpt=MODELS[0])\n",
    "\n",
    "\n",
    "shuffled_idxs, shuffled_targets = shuffle(\n",
    "    np.asarray(list(range(len(val_dataset)))),\n",
    "    np.asarray(val_dataset.targets),\n",
    "    random_state=0,\n",
    ")\n",
    "all_targets = sorted(set(shuffled_targets))\n",
    "class2idxs = {target: shuffled_idxs[shuffled_targets == target] for target in all_targets}\n",
    "\n",
    "idxs = []\n",
    "i = 0\n",
    "while len(idxs) < num_samples:\n",
    "    for target, target_idxs in class2idxs.items():\n",
    "        idxs.append(target_idxs[i])\n",
    "        if len(anchor_indices) == K:\n",
    "            break\n",
    "    i += 1\n",
    "\n",
    "\n",
    "images = []\n",
    "targets = []\n",
    "indexes = []\n",
    "classes = []\n",
    "for idx in idxs:\n",
    "    sample = val_dataset[idx]\n",
    "    indexes.append(sample[\"index\"].item())\n",
    "    images.append(sample[\"image\"])\n",
    "    targets.append(sample[\"target\"])\n",
    "    classes.append(sample[\"class\"])\n",
    "images_batch = torch.stack(images, dim=0)\n",
    "images_batch.shape"
   ]
  },
  {
   "cell_type": "markdown",
   "id": "fd75020b",
   "metadata": {},
   "source": [
    "# Visualize"
   ]
  },
  {
   "cell_type": "code",
   "execution_count": null,
   "id": "ec6f2e14",
   "metadata": {},
   "outputs": [],
   "source": [
    "N_ROWS = 1\n",
    "N_COLS = images_batch.shape[0]\n",
    "\n",
    "plt.rcParams.update(bundles.icml2022())\n",
    "plt.rcParams.update(figsizes.icml2022_full(ncols=N_COLS, nrows=N_ROWS, height_to_width_ratio=1.0))\n",
    "\n",
    "\n",
    "fig, ax = plt.subplots(\n",
    "    1,\n",
    "    1,\n",
    "    dpi=150,\n",
    "    sharey=False,\n",
    "    sharex=False,\n",
    ")\n",
    "\n",
    "\n",
    "def plot_images(ax, images: torch.Tensor, title: Optional[str] = None):\n",
    "    images = images.cpu().detach()\n",
    "    if title is not None:\n",
    "        ax.set_title(title)\n",
    "    ax.axis(\"off\")\n",
    "    ax.set_aspect(\"equal\")\n",
    "    ax.imshow(torchvision.utils.make_grid(images.cpu(), 20, 5).permute(1, 2, 0))\n",
    "\n",
    "\n",
    "plot_images(ax, images_batch)"
   ]
  },
  {
   "cell_type": "markdown",
   "id": "78757298",
   "metadata": {},
   "source": [
    "# AE"
   ]
  },
  {
   "cell_type": "code",
   "execution_count": null,
   "id": "7a70f696",
   "metadata": {},
   "outputs": [],
   "source": [
    "MODELS = checkpoints[\"mnist\"][\"ae\"]\n",
    "MODELS"
   ]
  },
  {
   "cell_type": "code",
   "execution_count": null,
   "id": "4522b0f2",
   "metadata": {},
   "outputs": [],
   "source": [
    "ae1, _ = parse_checkpoint(\n",
    "    module_class=PL_MODULE,\n",
    "    checkpoint_path=MODELS[0],\n",
    "    map_location=\"cpu\",\n",
    ")"
   ]
  },
  {
   "cell_type": "code",
   "execution_count": null,
   "id": "bf51799c",
   "metadata": {},
   "outputs": [],
   "source": [
    "ae2, _ = parse_checkpoint(\n",
    "    module_class=PL_MODULE,\n",
    "    checkpoint_path=MODELS[1],\n",
    "    map_location=\"cpu\",\n",
    ")"
   ]
  },
  {
   "cell_type": "code",
   "execution_count": null,
   "id": "08c6bf3f",
   "metadata": {},
   "outputs": [],
   "source": [
    "reconstructions = ae1(images_batch)[Output.RECONSTRUCTION]\n",
    "\n",
    "fig, ax = plt.subplots(\n",
    "    1,\n",
    "    1,\n",
    "    dpi=150,\n",
    "    sharey=False,\n",
    "    sharex=False,\n",
    ")\n",
    "plot_images(ax, reconstructions)"
   ]
  },
  {
   "cell_type": "code",
   "execution_count": null,
   "id": "eea14d10",
   "metadata": {},
   "outputs": [],
   "source": [
    "reconstructions = ae2(images_batch)[Output.RECONSTRUCTION]\n",
    "fig, ax = plt.subplots(\n",
    "    1,\n",
    "    1,\n",
    "    dpi=150,\n",
    "    sharey=False,\n",
    "    sharex=False,\n",
    ")\n",
    "plot_images(ax, reconstructions)"
   ]
  },
  {
   "cell_type": "code",
   "execution_count": null,
   "id": "8b1e4b6d",
   "metadata": {},
   "outputs": [],
   "source": [
    "from rae.pl_modules.pl_stitching_module import StitchingModule\n",
    "\n",
    "model = StitchingModule(ae1, ae2)\n",
    "reconstructions = model(images_batch)[Output.RECONSTRUCTION]\n",
    "fig, ax = plt.subplots(\n",
    "    1,\n",
    "    1,\n",
    "    dpi=150,\n",
    "    sharey=False,\n",
    "    sharex=False,\n",
    ")\n",
    "plot_images(ax, reconstructions)"
   ]
  },
  {
   "cell_type": "markdown",
   "id": "848bd7c1",
   "metadata": {},
   "source": [
    "# RelAE"
   ]
  },
  {
   "cell_type": "code",
   "execution_count": null,
   "id": "7bb4b75f",
   "metadata": {},
   "outputs": [],
   "source": [
    "MODELS = checkpoints[\"mnist\"][\"rel_ae_0.5\"]\n",
    "MODELS"
   ]
  },
  {
   "cell_type": "code",
   "execution_count": null,
   "id": "8938af8c",
   "metadata": {},
   "outputs": [],
   "source": [
    "ae1, _ = parse_checkpoint(\n",
    "    module_class=PL_MODULE,\n",
    "    checkpoint_path=MODELS[0],\n",
    "    map_location=\"cpu\",\n",
    ")"
   ]
  },
  {
   "cell_type": "code",
   "execution_count": null,
   "id": "82934c88",
   "metadata": {},
   "outputs": [],
   "source": [
    "ae2, _ = parse_checkpoint(\n",
    "    module_class=PL_MODULE,\n",
    "    checkpoint_path=MODELS[1],\n",
    "    map_location=\"cpu\",\n",
    ")"
   ]
  },
  {
   "cell_type": "code",
   "execution_count": null,
   "id": "765e52f7",
   "metadata": {},
   "outputs": [],
   "source": [
    "reconstructions = ae1(images_batch)[Output.RECONSTRUCTION]\n",
    "\n",
    "fig, ax = plt.subplots(\n",
    "    1,\n",
    "    1,\n",
    "    dpi=150,\n",
    "    sharey=False,\n",
    "    sharex=False,\n",
    ")\n",
    "plot_images(ax, reconstructions)"
   ]
  },
  {
   "cell_type": "code",
   "execution_count": null,
   "id": "e2a0a527",
   "metadata": {},
   "outputs": [],
   "source": [
    "reconstructions = ae1(images_batch)[Output.RECONSTRUCTION]\n",
    "fig, ax = plt.subplots(\n",
    "    1,\n",
    "    1,\n",
    "    dpi=150,\n",
    "    sharey=False,\n",
    "    sharex=False,\n",
    ")\n",
    "plot_images(ax, reconstructions)"
   ]
  },
  {
   "cell_type": "code",
   "execution_count": null,
   "id": "00ad9384",
   "metadata": {},
   "outputs": [],
   "source": [
    "reconstructions = ae2(images_batch)[Output.RECONSTRUCTION]\n",
    "fig, ax = plt.subplots(\n",
    "    1,\n",
    "    1,\n",
    "    dpi=150,\n",
    "    sharey=False,\n",
    "    sharex=False,\n",
    ")\n",
    "plot_images(ax, reconstructions)"
   ]
  },
  {
   "cell_type": "code",
   "execution_count": null,
   "id": "fed46c3f",
   "metadata": {},
   "outputs": [],
   "source": [
    "from rae.pl_modules.pl_stitching_module import StitchingModule\n",
    "\n",
    "model = StitchingModule(ae1, ae2)\n",
    "reconstructions = model(images_batch)[Output.RECONSTRUCTION]\n",
    "fig, ax = plt.subplots(\n",
    "    1,\n",
    "    1,\n",
    "    dpi=150,\n",
    "    sharey=False,\n",
    "    sharex=False,\n",
    ")\n",
    "plot_images(ax, reconstructions)"
   ]
  },
  {
   "cell_type": "markdown",
   "id": "8382ca28",
   "metadata": {},
   "source": [
    "# VAE"
   ]
  },
  {
   "cell_type": "code",
   "execution_count": null,
   "id": "9c8f5219",
   "metadata": {},
   "outputs": [],
   "source": [
    "MODELS = checkpoints[\"mnist\"][\"vae\"]\n",
    "MODELS"
   ]
  },
  {
   "cell_type": "code",
   "execution_count": null,
   "id": "77647890",
   "metadata": {},
   "outputs": [],
   "source": [
    "ae1, _ = parse_checkpoint(\n",
    "    module_class=PL_MODULE,\n",
    "    checkpoint_path=MODELS[0],\n",
    "    map_location=\"cpu\",\n",
    ")"
   ]
  },
  {
   "cell_type": "code",
   "execution_count": null,
   "id": "6d9d5ab4",
   "metadata": {},
   "outputs": [],
   "source": [
    "ae2, _ = parse_checkpoint(\n",
    "    module_class=PL_MODULE,\n",
    "    checkpoint_path=MODELS[1],\n",
    "    map_location=\"cpu\",\n",
    ")"
   ]
  },
  {
   "cell_type": "code",
   "execution_count": null,
   "id": "041943ef",
   "metadata": {},
   "outputs": [],
   "source": [
    "reconstructions = ae1(images_batch)[Output.RECONSTRUCTION]\n",
    "fig, ax = plt.subplots(\n",
    "    1,\n",
    "    1,\n",
    "    dpi=150,\n",
    "    sharey=False,\n",
    "    sharex=False,\n",
    ")\n",
    "plot_images(ax, reconstructions)"
   ]
  },
  {
   "cell_type": "code",
   "execution_count": null,
   "id": "904de865",
   "metadata": {},
   "outputs": [],
   "source": [
    "reconstructions = ae2(images_batch)[Output.RECONSTRUCTION]\n",
    "fig, ax = plt.subplots(\n",
    "    1,\n",
    "    1,\n",
    "    dpi=150,\n",
    "    sharey=False,\n",
    "    sharex=False,\n",
    ")\n",
    "plot_images(ax, reconstructions)"
   ]
  },
  {
   "cell_type": "code",
   "execution_count": null,
   "id": "901f98d0",
   "metadata": {},
   "outputs": [],
   "source": [
    "from rae.pl_modules.pl_stitching_module import StitchingModule\n",
    "\n",
    "model = StitchingModule(ae1, ae2)\n",
    "reconstructions = model(images_batch)[Output.RECONSTRUCTION]\n",
    "fig, ax = plt.subplots(\n",
    "    1,\n",
    "    1,\n",
    "    dpi=150,\n",
    "    sharey=False,\n",
    "    sharex=False,\n",
    ")\n",
    "plot_images(ax, reconstructions)"
   ]
  },
  {
   "cell_type": "code",
   "execution_count": null,
   "id": "e04c77ab",
   "metadata": {},
   "outputs": [],
   "source": []
  },
  {
   "cell_type": "markdown",
   "id": "5a0b7cb7",
   "metadata": {},
   "source": [
    "# RelVAE"
   ]
  },
  {
   "cell_type": "code",
   "execution_count": null,
   "id": "5b7afaeb",
   "metadata": {},
   "outputs": [],
   "source": [
    "MODELS = checkpoints[\"mnist\"][\"rel_vae\"]\n",
    "MODELS"
   ]
  },
  {
   "cell_type": "code",
   "execution_count": null,
   "id": "de00e13f",
   "metadata": {},
   "outputs": [],
   "source": [
    "ae1, _ = parse_checkpoint(\n",
    "    module_class=PL_MODULE,\n",
    "    checkpoint_path=MODELS[0],\n",
    "    map_location=\"cpu\",\n",
    ")"
   ]
  },
  {
   "cell_type": "code",
   "execution_count": null,
   "id": "609c83cb",
   "metadata": {},
   "outputs": [],
   "source": [
    "ae2, _ = parse_checkpoint(\n",
    "    module_class=PL_MODULE,\n",
    "    checkpoint_path=MODELS[1],\n",
    "    map_location=\"cpu\",\n",
    ")"
   ]
  },
  {
   "cell_type": "code",
   "execution_count": null,
   "id": "32acc645",
   "metadata": {},
   "outputs": [],
   "source": [
    "reconstructions = ae1(images_batch)[Output.RECONSTRUCTION]\n",
    "fig, ax = plt.subplots(\n",
    "    1,\n",
    "    1,\n",
    "    dpi=150,\n",
    "    sharey=False,\n",
    "    sharex=False,\n",
    ")\n",
    "plot_images(ax, reconstructions)"
   ]
  },
  {
   "cell_type": "code",
   "execution_count": null,
   "id": "765c1e35",
   "metadata": {},
   "outputs": [],
   "source": [
    "reconstructions = ae2(images_batch)[Output.RECONSTRUCTION]\n",
    "fig, ax = plt.subplots(\n",
    "    1,\n",
    "    1,\n",
    "    dpi=150,\n",
    "    sharey=False,\n",
    "    sharex=False,\n",
    ")\n",
    "plot_images(ax, reconstructions)"
   ]
  },
  {
   "cell_type": "code",
   "execution_count": null,
   "id": "7cacaf38",
   "metadata": {},
   "outputs": [],
   "source": [
    "from rae.pl_modules.pl_stitching_module import StitchingModule\n",
    "\n",
    "model = StitchingModule(ae1, ae2)\n",
    "reconstructions = model(images_batch)[Output.RECONSTRUCTION]\n",
    "fig, ax = plt.subplots(\n",
    "    1,\n",
    "    1,\n",
    "    dpi=150,\n",
    "    sharey=False,\n",
    "    sharex=False,\n",
    ")\n",
    "plot_images(ax, reconstructions)"
   ]
  },
  {
   "cell_type": "markdown",
   "id": "5f40684d",
   "metadata": {},
   "source": [
    "# Build Figure"
   ]
  },
  {
   "cell_type": "code",
   "execution_count": null,
   "id": "d52033ee",
   "metadata": {},
   "outputs": [],
   "source": [
    "models_name = [\"ae\", \"vae\", \"rel_ae\", \"rel_vae\"]\n",
    "model_a_idx = 0\n",
    "model_b_idx = 1"
   ]
  },
  {
   "cell_type": "code",
   "execution_count": null,
   "id": "d1be8a6f",
   "metadata": {},
   "outputs": [],
   "source": [
    "def plot_images(ax, images: torch.Tensor, title: Optional[str] = None, images_per_row=10, padding=2):\n",
    "    images = images.cpu().detach()\n",
    "    # ax.axis(\"off\")\n",
    "    ax.spines[\"top\"].set_visible(False)\n",
    "    ax.spines[\"right\"].set_visible(False)\n",
    "    ax.spines[\"bottom\"].set_visible(False)\n",
    "    ax.spines[\"left\"].set_visible(False)\n",
    "    ax.get_xaxis().set_ticks([])\n",
    "    ax.get_yaxis().set_ticks([])\n",
    "    if title is not None:\n",
    "        ax.set_ylabel(title)\n",
    "    ax.set_aspect(\"equal\")\n",
    "    ax.imshow(torchvision.utils.make_grid(images.cpu(), images_per_row, padding=padding, pad_value=1).permute(1, 2, 0))"
   ]
  },
  {
   "cell_type": "code",
   "execution_count": null,
   "id": "25b49acb",
   "metadata": {},
   "outputs": [],
   "source": [
    "def plot_stitching(model_name, name1, name2, height_to_width_ratio, padding=2):\n",
    "    model_a, _ = parse_checkpoint(\n",
    "        module_class=PL_MODULE,\n",
    "        checkpoint_path=checkpoints[\"mnist\"][model_name][model_a_idx],\n",
    "        map_location=\"cpu\",\n",
    "    )\n",
    "\n",
    "    model_b, _ = parse_checkpoint(\n",
    "        module_class=PL_MODULE,\n",
    "        checkpoint_path=checkpoints[\"mnist\"][model_name][model_b_idx],\n",
    "        map_location=\"cpu\",\n",
    "    )\n",
    "\n",
    "    recon_a = model_a(images_batch)[Output.RECONSTRUCTION]\n",
    "\n",
    "    model_ab = StitchingModule(model_a, model_b)\n",
    "    recon_ab = model_ab(images_batch)[Output.RECONSTRUCTION]\n",
    "\n",
    "    N_ROWS = 2\n",
    "    N_COLS = 1\n",
    "\n",
    "    plt.rcParams.update(bundles.icml2022())\n",
    "    plt.rcParams.update(figsizes.icml2022_full(ncols=N_COLS, nrows=N_ROWS, height_to_width_ratio=height_to_width_ratio))\n",
    "\n",
    "    fig, [ax1, ax2] = plt.subplots(N_ROWS, N_COLS, dpi=150)\n",
    "    plot_images(ax1, recon_a, title=name1, images_per_row=recon_a.shape[0], padding=padding)\n",
    "    plot_images(ax2, recon_ab, title=name2, images_per_row=recon_a.shape[0], padding=padding)\n",
    "    return fig"
   ]
  },
  {
   "cell_type": "code",
   "execution_count": null,
   "id": "ddc427d8",
   "metadata": {},
   "outputs": [],
   "source": [
    "height_to_width_ratio = 0.07"
   ]
  },
  {
   "cell_type": "code",
   "execution_count": null,
   "id": "246b89ec",
   "metadata": {},
   "outputs": [],
   "source": [
    "N_ROWS = 1\n",
    "N_COLS = 1\n",
    "\n",
    "plt.rcParams.update(bundles.icml2022())\n",
    "plt.rcParams.update(figsizes.icml2022_full(ncols=N_COLS, nrows=N_ROWS, height_to_width_ratio=height_to_width_ratio))\n",
    "\n",
    "fig, ax = plt.subplots(\n",
    "    N_ROWS,\n",
    "    N_COLS,\n",
    "    dpi=150,\n",
    "    sharey=False,\n",
    "    sharex=False,\n",
    ")\n",
    "plot_images(ax, images_batch, title=\"Source\", images_per_row=images_batch.shape[0])"
   ]
  },
  {
   "cell_type": "code",
   "execution_count": null,
   "id": "c134aa4f",
   "metadata": {},
   "outputs": [],
   "source": [
    "fig.savefig(\"source.svg\", bbox_inches=\"tight\")\n",
    "!rsvg-convert -f pdf -o source.pdf source.svg\n",
    "!rm source.svg"
   ]
  },
  {
   "cell_type": "code",
   "execution_count": null,
   "id": "512393b3",
   "metadata": {},
   "outputs": [],
   "source": [
    "fig = plot_stitching(\"ae\", \"AE_11\", \"AE_12\", height_to_width_ratio=height_to_width_ratio, padding=2)"
   ]
  },
  {
   "cell_type": "code",
   "execution_count": null,
   "id": "042116f2",
   "metadata": {},
   "outputs": [],
   "source": [
    "fig.savefig(\"ae.svg\", bbox_inches=\"tight\")\n",
    "!rsvg-convert -f pdf -o ae.pdf ae.svg\n",
    "!rm ae.svg"
   ]
  },
  {
   "cell_type": "code",
   "execution_count": null,
   "id": "b9aeb616",
   "metadata": {},
   "outputs": [],
   "source": [
    "fig = plot_stitching(\"vae\", \"VAE_11\", \"VAE_12\", height_to_width_ratio=height_to_width_ratio)"
   ]
  },
  {
   "cell_type": "code",
   "execution_count": null,
   "id": "880e5f51",
   "metadata": {},
   "outputs": [],
   "source": [
    "fig.savefig(\"vae.svg\", bbox_inches=\"tight\")\n",
    "!rsvg-convert -f pdf -o vae.pdf vae.svg\n",
    "!rm vae.svg"
   ]
  },
  {
   "cell_type": "code",
   "execution_count": null,
   "id": "48a5d2bb",
   "metadata": {},
   "outputs": [],
   "source": [
    "fig = plot_stitching(\"rel_ae\", \"RAE_11\", \"RAE_12\", height_to_width_ratio=height_to_width_ratio)"
   ]
  },
  {
   "cell_type": "code",
   "execution_count": null,
   "id": "a948d319",
   "metadata": {},
   "outputs": [],
   "source": [
    "fig.savefig(\"rel_ae.svg\", bbox_inches=\"tight\")\n",
    "!rsvg-convert -f pdf -o rel_ae.pdf rel_ae.svg\n",
    "!rm rel_ae.svg"
   ]
  },
  {
   "cell_type": "code",
   "execution_count": null,
   "id": "4cca8382",
   "metadata": {},
   "outputs": [],
   "source": [
    "fig = plot_stitching(\"rel_vae\", \"RVAE_11\", \"RVAE_12\", height_to_width_ratio=height_to_width_ratio)"
   ]
  },
  {
   "cell_type": "code",
   "execution_count": null,
   "id": "958e66a7",
   "metadata": {},
   "outputs": [],
   "source": [
    "fig.savefig(\"rel_vae.svg\", bbox_inches=\"tight\")\n",
    "!rsvg-convert -f pdf -o rel_vae.pdf rel_vae.svg\n",
    "!rm rel_vae.svg"
   ]
  },
  {
   "cell_type": "code",
   "execution_count": null,
   "id": "87fe86d3",
   "metadata": {},
   "outputs": [],
   "source": []
  },
  {
   "cell_type": "code",
   "execution_count": null,
   "id": "58be0e69",
   "metadata": {},
   "outputs": [],
   "source": []
  }
 ],
 "metadata": {
  "kernelspec": {
   "display_name": "Python 3 (ipykernel)",
   "language": "python",
   "name": "python3"
  },
  "language_info": {
   "codemirror_mode": {
    "name": "ipython",
    "version": 3
   },
   "file_extension": ".py",
   "mimetype": "text/x-python",
   "name": "python",
   "nbconvert_exporter": "python",
   "pygments_lexer": "ipython3",
   "version": "3.8.13"
  }
 },
 "nbformat": 4,
 "nbformat_minor": 5
}
