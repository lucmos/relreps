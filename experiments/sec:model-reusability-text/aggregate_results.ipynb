{
 "cells": [
  {
   "cell_type": "code",
   "execution_count": 17,
   "id": "53ecb813",
   "metadata": {},
   "outputs": [
    {
     "data": {
      "text/html": [
       "<div>\n",
       "<style scoped>\n",
       "    .dataframe tbody tr th:only-of-type {\n",
       "        vertical-align: middle;\n",
       "    }\n",
       "\n",
       "    .dataframe tbody tr th {\n",
       "        vertical-align: top;\n",
       "    }\n",
       "\n",
       "    .dataframe thead th {\n",
       "        text-align: right;\n",
       "    }\n",
       "</style>\n",
       "<table border=\"1\" class=\"dataframe\">\n",
       "  <thead>\n",
       "    <tr style=\"text-align: right;\">\n",
       "      <th></th>\n",
       "      <th>seed</th>\n",
       "      <th>embed_type</th>\n",
       "      <th>embed_transformer</th>\n",
       "      <th>classifier_transformer</th>\n",
       "      <th>precision</th>\n",
       "      <th>recall</th>\n",
       "      <th>fscore</th>\n",
       "      <th>stitched</th>\n",
       "    </tr>\n",
       "  </thead>\n",
       "  <tbody>\n",
       "    <tr>\n",
       "      <th>0</th>\n",
       "      <td>0</td>\n",
       "      <td>absolute</td>\n",
       "      <td>bert-base-cased</td>\n",
       "      <td>bert-base-cased</td>\n",
       "      <td>0.576667</td>\n",
       "      <td>0.5718</td>\n",
       "      <td>0.572847</td>\n",
       "      <td>False</td>\n",
       "    </tr>\n",
       "    <tr>\n",
       "      <th>1</th>\n",
       "      <td>0</td>\n",
       "      <td>absolute</td>\n",
       "      <td>bert-base-cased</td>\n",
       "      <td>bert-base-uncased</td>\n",
       "      <td>0.211683</td>\n",
       "      <td>0.2100</td>\n",
       "      <td>0.209411</td>\n",
       "      <td>True</td>\n",
       "    </tr>\n",
       "    <tr>\n",
       "      <th>2</th>\n",
       "      <td>0</td>\n",
       "      <td>absolute</td>\n",
       "      <td>bert-base-cased</td>\n",
       "      <td>google/electra-base-discriminator</td>\n",
       "      <td>0.170813</td>\n",
       "      <td>0.1740</td>\n",
       "      <td>0.171458</td>\n",
       "      <td>True</td>\n",
       "    </tr>\n",
       "    <tr>\n",
       "      <th>3</th>\n",
       "      <td>0</td>\n",
       "      <td>absolute</td>\n",
       "      <td>bert-base-cased</td>\n",
       "      <td>roberta-base</td>\n",
       "      <td>0.180815</td>\n",
       "      <td>0.1868</td>\n",
       "      <td>0.181710</td>\n",
       "      <td>True</td>\n",
       "    </tr>\n",
       "    <tr>\n",
       "      <th>4</th>\n",
       "      <td>0</td>\n",
       "      <td>absolute</td>\n",
       "      <td>bert-base-cased</td>\n",
       "      <td>xlm-roberta-base</td>\n",
       "      <td>0.165387</td>\n",
       "      <td>0.1722</td>\n",
       "      <td>0.165767</td>\n",
       "      <td>True</td>\n",
       "    </tr>\n",
       "    <tr>\n",
       "      <th>...</th>\n",
       "      <td>...</td>\n",
       "      <td>...</td>\n",
       "      <td>...</td>\n",
       "      <td>...</td>\n",
       "      <td>...</td>\n",
       "      <td>...</td>\n",
       "      <td>...</td>\n",
       "      <td>...</td>\n",
       "    </tr>\n",
       "    <tr>\n",
       "      <th>245</th>\n",
       "      <td>4</td>\n",
       "      <td>relative</td>\n",
       "      <td>xlm-roberta-base</td>\n",
       "      <td>bert-base-cased</td>\n",
       "      <td>0.483128</td>\n",
       "      <td>0.4848</td>\n",
       "      <td>0.472236</td>\n",
       "      <td>True</td>\n",
       "    </tr>\n",
       "    <tr>\n",
       "      <th>246</th>\n",
       "      <td>4</td>\n",
       "      <td>relative</td>\n",
       "      <td>xlm-roberta-base</td>\n",
       "      <td>bert-base-uncased</td>\n",
       "      <td>0.469431</td>\n",
       "      <td>0.4768</td>\n",
       "      <td>0.459729</td>\n",
       "      <td>True</td>\n",
       "    </tr>\n",
       "    <tr>\n",
       "      <th>247</th>\n",
       "      <td>4</td>\n",
       "      <td>relative</td>\n",
       "      <td>xlm-roberta-base</td>\n",
       "      <td>google/electra-base-discriminator</td>\n",
       "      <td>0.435226</td>\n",
       "      <td>0.4546</td>\n",
       "      <td>0.436225</td>\n",
       "      <td>True</td>\n",
       "    </tr>\n",
       "    <tr>\n",
       "      <th>248</th>\n",
       "      <td>4</td>\n",
       "      <td>relative</td>\n",
       "      <td>xlm-roberta-base</td>\n",
       "      <td>roberta-base</td>\n",
       "      <td>0.459044</td>\n",
       "      <td>0.4700</td>\n",
       "      <td>0.455128</td>\n",
       "      <td>True</td>\n",
       "    </tr>\n",
       "    <tr>\n",
       "      <th>249</th>\n",
       "      <td>4</td>\n",
       "      <td>relative</td>\n",
       "      <td>xlm-roberta-base</td>\n",
       "      <td>xlm-roberta-base</td>\n",
       "      <td>0.567161</td>\n",
       "      <td>0.5698</td>\n",
       "      <td>0.564564</td>\n",
       "      <td>False</td>\n",
       "    </tr>\n",
       "  </tbody>\n",
       "</table>\n",
       "<p>250 rows × 8 columns</p>\n",
       "</div>"
      ],
      "text/plain": [
       "     seed embed_type embed_transformer             classifier_transformer  \\\n",
       "0       0   absolute   bert-base-cased                    bert-base-cased   \n",
       "1       0   absolute   bert-base-cased                  bert-base-uncased   \n",
       "2       0   absolute   bert-base-cased  google/electra-base-discriminator   \n",
       "3       0   absolute   bert-base-cased                       roberta-base   \n",
       "4       0   absolute   bert-base-cased                   xlm-roberta-base   \n",
       "..    ...        ...               ...                                ...   \n",
       "245     4   relative  xlm-roberta-base                    bert-base-cased   \n",
       "246     4   relative  xlm-roberta-base                  bert-base-uncased   \n",
       "247     4   relative  xlm-roberta-base  google/electra-base-discriminator   \n",
       "248     4   relative  xlm-roberta-base                       roberta-base   \n",
       "249     4   relative  xlm-roberta-base                   xlm-roberta-base   \n",
       "\n",
       "     precision  recall    fscore  stitched  \n",
       "0     0.576667  0.5718  0.572847     False  \n",
       "1     0.211683  0.2100  0.209411      True  \n",
       "2     0.170813  0.1740  0.171458      True  \n",
       "3     0.180815  0.1868  0.181710      True  \n",
       "4     0.165387  0.1722  0.165767      True  \n",
       "..         ...     ...       ...       ...  \n",
       "245   0.483128  0.4848  0.472236      True  \n",
       "246   0.469431  0.4768  0.459729      True  \n",
       "247   0.435226  0.4546  0.436225      True  \n",
       "248   0.459044  0.4700  0.455128      True  \n",
       "249   0.567161  0.5698  0.564564     False  \n",
       "\n",
       "[250 rows x 8 columns]"
      ]
     },
     "execution_count": 17,
     "metadata": {},
     "output_type": "execute_result"
    }
   ],
   "source": [
    "import pandas as pd\n",
    "import numpy as np\n",
    "\n",
    "perf_amazon_reviews_multi_en = 'nlp_stitching-amazon_reviews_multi_en.csv'\n",
    "perf_dbpedia_14 = 'nlp_stitching-dbpedia_14.csv'\n",
    "perf_trec = 'nlp_stitching-trec.csv'\n",
    "\n",
    "\n",
    "trec = pd.read_csv(perf_trec, sep=\"\\t\", index_col=0)\n",
    "trec\n",
    "\n",
    "dbpedia = pd.read_csv(perf_dbpedia_14, sep=\"\\t\", index_col=0)\n",
    "dbpedia\n",
    "\n",
    "amazon = pd.read_csv(perf_amazon_reviews_multi_en, sep=\"\\t\", index_col=0)\n",
    "amazon"
   ]
  },
  {
   "cell_type": "code",
   "execution_count": 28,
   "id": "335685a3",
   "metadata": {},
   "outputs": [],
   "source": [
    "def display_results(df):\n",
    "    o = df.drop(columns=['seed', 'precision', 'recall', 'embed_transformer', 'classifier_transformer']).groupby(['embed_type', 'stitched']).agg([np.mean, np.std, 'count'])\n",
    "    print(o)\n",
    "    return o"
   ]
  },
  {
   "cell_type": "code",
   "execution_count": 29,
   "id": "2da8d207",
   "metadata": {},
   "outputs": [
    {
     "name": "stdout",
     "output_type": "stream",
     "text": [
      "                       fscore                \n",
      "                         mean       std count\n",
      "embed_type stitched                          \n",
      "absolute   False     0.913593  0.013512    25\n",
      "           True      0.215081  0.038997   100\n",
      "relative   False     0.872361  0.024718    25\n",
      "           True      0.744857  0.053133   100\n"
     ]
    }
   ],
   "source": [
    "trec_df = display_results(trec)"
   ]
  },
  {
   "cell_type": "code",
   "execution_count": 30,
   "id": "f269e2d4",
   "metadata": {
    "scrolled": true
   },
   "outputs": [
    {
     "name": "stdout",
     "output_type": "stream",
     "text": [
      "                       fscore                \n",
      "                         mean       std count\n",
      "embed_type stitched                          \n",
      "absolute   False     0.985899  0.005201    25\n",
      "           True      0.070190  0.014582   100\n",
      "relative   False     0.974862  0.018109    25\n",
      "           True      0.807910  0.191644   100\n"
     ]
    }
   ],
   "source": [
    "dbpedia_df = display_results(dbpedia)"
   ]
  },
  {
   "cell_type": "code",
   "execution_count": 31,
   "id": "b58c3613",
   "metadata": {},
   "outputs": [
    {
     "name": "stdout",
     "output_type": "stream",
     "text": [
      "                       fscore                \n",
      "                         mean       std count\n",
      "embed_type stitched                          \n",
      "absolute   False     0.591791  0.014637    25\n",
      "           True      0.193744  0.017599   100\n",
      "relative   False     0.558625  0.015485    25\n",
      "           True      0.442808  0.029609   100\n"
     ]
    }
   ],
   "source": [
    "amazon_df = display_results(amazon)"
   ]
  },
  {
   "cell_type": "code",
   "execution_count": 60,
   "id": "ec344e36",
   "metadata": {},
   "outputs": [
    {
     "name": "stdout",
     "output_type": "stream",
     "text": [
      "absolute & Non-Stitch & $91.36 \\pm 1.35$ & $98.59 \\pm 0.52$ & $59.18 \\pm 1.46$ \\\\[1ex]\n",
      "absolute & Stitch & $21.51 \\pm 3.90$ & $7.02 \\pm 1.46$ & $19.37 \\pm 1.76$ \\\\[1ex]\n",
      "relative & Non-Stitch & $87.24 \\pm 2.47$ & $97.49 \\pm 1.81$ & $55.86 \\pm 1.55$ \\\\[1ex]\n",
      "relative & Stitch & $74.49 \\pm 5.31$ & $80.79 \\pm 19.16$ & $44.28 \\pm 2.96$ \\\\[1ex]\n"
     ]
    }
   ],
   "source": [
    "def latex_float(f):\n",
    "    float_str = \"{0:.2f}\".format(f)\n",
    "    if \"e\" in float_str:\n",
    "        base, exponent = float_str.split(\"e\")\n",
    "        return r\"{0} \\times 10^{{{1}}}\".format(base, int(exponent))\n",
    "    else:\n",
    "        return float_str\n",
    "\n",
    "def extract_mean_std(df: pd.DataFrame, model_type: str, stitching: bool) -> str:\n",
    "    df = df*100\n",
    "    df = df.round(2)\n",
    "    try:\n",
    "        mean_std = df.loc[model_type, stitching]\n",
    "        return rf\"${latex_float(mean_std['fscore']['mean'])} \\pm {latex_float(mean_std['fscore']['std'])}$\"\n",
    "    except (AttributeError, KeyError):\n",
    "        return \"?\"\n",
    "    \n",
    "classification_rel = r\"{} & {} & {} & {} & {} \\\\[1ex]\"\n",
    "\n",
    "for available_model_type in   (\"absolute\", \"relative\"):\n",
    "    for stitching, stit_name in zip([False, True, ], [ 'Non-Stitch', 'Stitch',]):\n",
    "\n",
    "        s = classification_rel.format(\n",
    "            available_model_type, \n",
    "            stit_name,\n",
    "            *[\n",
    "                extract_mean_std(df,  available_model_type, stitching)\n",
    "                for df in [trec_df, dbpedia_df, amazon_df]\n",
    "            ],\n",
    "        )\n",
    "        print(s)"
   ]
  },
  {
   "cell_type": "code",
   "execution_count": 36,
   "id": "2747c709",
   "metadata": {},
   "outputs": [
    {
     "data": {
      "text/html": [
       "<div>\n",
       "<style scoped>\n",
       "    .dataframe tbody tr th:only-of-type {\n",
       "        vertical-align: middle;\n",
       "    }\n",
       "\n",
       "    .dataframe tbody tr th {\n",
       "        vertical-align: top;\n",
       "    }\n",
       "\n",
       "    .dataframe thead tr th {\n",
       "        text-align: left;\n",
       "    }\n",
       "</style>\n",
       "<table border=\"1\" class=\"dataframe\">\n",
       "  <thead>\n",
       "    <tr>\n",
       "      <th></th>\n",
       "      <th>embed_type</th>\n",
       "      <th>stitched</th>\n",
       "      <th colspan=\"3\" halign=\"left\">fscore</th>\n",
       "    </tr>\n",
       "    <tr>\n",
       "      <th></th>\n",
       "      <th></th>\n",
       "      <th></th>\n",
       "      <th>mean</th>\n",
       "      <th>std</th>\n",
       "      <th>count</th>\n",
       "    </tr>\n",
       "  </thead>\n",
       "  <tbody>\n",
       "    <tr>\n",
       "      <th>0</th>\n",
       "      <td>absolute</td>\n",
       "      <td>False</td>\n",
       "      <td>0.591791</td>\n",
       "      <td>0.014637</td>\n",
       "      <td>25</td>\n",
       "    </tr>\n",
       "    <tr>\n",
       "      <th>1</th>\n",
       "      <td>absolute</td>\n",
       "      <td>True</td>\n",
       "      <td>0.193744</td>\n",
       "      <td>0.017599</td>\n",
       "      <td>100</td>\n",
       "    </tr>\n",
       "    <tr>\n",
       "      <th>2</th>\n",
       "      <td>relative</td>\n",
       "      <td>False</td>\n",
       "      <td>0.558625</td>\n",
       "      <td>0.015485</td>\n",
       "      <td>25</td>\n",
       "    </tr>\n",
       "    <tr>\n",
       "      <th>3</th>\n",
       "      <td>relative</td>\n",
       "      <td>True</td>\n",
       "      <td>0.442808</td>\n",
       "      <td>0.029609</td>\n",
       "      <td>100</td>\n",
       "    </tr>\n",
       "  </tbody>\n",
       "</table>\n",
       "</div>"
      ],
      "text/plain": [
       "  embed_type stitched    fscore                \n",
       "                           mean       std count\n",
       "0   absolute    False  0.591791  0.014637    25\n",
       "1   absolute     True  0.193744  0.017599   100\n",
       "2   relative    False  0.558625  0.015485    25\n",
       "3   relative     True  0.442808  0.029609   100"
      ]
     },
     "execution_count": 36,
     "metadata": {},
     "output_type": "execute_result"
    }
   ],
   "source": [
    "amazon_df.reset_index()"
   ]
  },
  {
   "cell_type": "code",
   "execution_count": 46,
   "id": "eac96ca4",
   "metadata": {},
   "outputs": [
    {
     "data": {
      "text/plain": [
       "0.1937444515128519"
      ]
     },
     "execution_count": 46,
     "metadata": {},
     "output_type": "execute_result"
    }
   ],
   "source": [
    "amazon_df.loc['absolute', True]['fscore']['mean']"
   ]
  },
  {
   "cell_type": "code",
   "execution_count": null,
   "id": "874bd6ea",
   "metadata": {},
   "outputs": [],
   "source": []
  }
 ],
 "metadata": {
  "kernelspec": {
   "display_name": "Python 3 (ipykernel)",
   "language": "python",
   "name": "python3"
  },
  "language_info": {
   "codemirror_mode": {
    "name": "ipython",
    "version": 3
   },
   "file_extension": ".py",
   "mimetype": "text/x-python",
   "name": "python",
   "nbconvert_exporter": "python",
   "pygments_lexer": "ipython3",
   "version": "3.9.12"
  }
 },
 "nbformat": 4,
 "nbformat_minor": 5
}
